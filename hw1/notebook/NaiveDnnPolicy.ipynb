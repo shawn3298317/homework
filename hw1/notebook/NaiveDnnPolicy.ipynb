{
 "cells": [
  {
   "cell_type": "code",
   "execution_count": 1,
   "metadata": {},
   "outputs": [],
   "source": [
    "import sys\n",
    "sys.path.append(\"../behavioral_cloning\")\n",
    "sys.path.append(\"../\")\n",
    "from build_dataset import *\n",
    "import seaborn as sbn\n",
    "import numpy as np\n",
    "import load_policy"
   ]
  },
  {
   "cell_type": "markdown",
   "metadata": {},
   "source": [
    "### Load & prep humanoid dataset"
   ]
  },
  {
   "cell_type": "code",
   "execution_count": 2,
   "metadata": {},
   "outputs": [],
   "source": [
    "# train_observations, train_actions = load_expert_data(\"../expert_data/train/Humanoid-v2.pkl\")\n",
    "# test_observations, test_actions = load_expert_data(\"../expert_data/test/Humanoid-v2.pkl\")\n",
    "train_observations, train_actions = load_expert_data(\"../expert_data/train/HalfCheetah-v2.pkl\")\n",
    "test_observations, test_actions = load_expert_data(\"../expert_data/test/HalfCheetah-v2.pkl\")"
   ]
  },
  {
   "cell_type": "code",
   "execution_count": 3,
   "metadata": {},
   "outputs": [
    {
     "data": {
      "text/plain": [
       "<matplotlib.axes._subplots.AxesSubplot at 0x141eee978>"
      ]
     },
     "execution_count": 3,
     "metadata": {},
     "output_type": "execute_result"
    },
    {
     "data": {
      "image/png": "[encoded data removed]",
      "text/plain": [
       "<Figure size 432x288 with 1 Axes>"
      ]
     },
     "metadata": {
      "needs_background": "light"
     },
     "output_type": "display_data"
    }
   ],
   "source": [
    "sbn.distplot(train_actions.ravel())"
   ]
  },
  {
   "cell_type": "code",
   "execution_count": 65,
   "metadata": {},
   "outputs": [
    {
     "data": {
      "text/plain": [
       "<matplotlib.axes._subplots.AxesSubplot at 0x1482dca20>"
      ]
     },
     "execution_count": 65,
     "metadata": {},
     "output_type": "execute_result"
    },
    {
     "data": {
      "image/png": "[encoded data removed]",
      "text/plain": [
       "<Figure size 432x288 with 1 Axes>"
      ]
     },
     "metadata": {
      "needs_background": "light"
     },
     "output_type": "display_data"
    }
   ],
   "source": [
    "sbn.distplot(train_observations.ravel())"
   ]
  },
  {
   "cell_type": "code",
   "execution_count": 3,
   "metadata": {},
   "outputs": [
    {
     "data": {
      "text/plain": [
       "<BatchDataset shapes: ((None, 17), (None, 12)), types: (tf.float64, tf.float32)>"
      ]
     },
     "execution_count": 3,
     "metadata": {},
     "output_type": "execute_result"
    }
   ],
   "source": [
    "train_dataset = build_in_mem_tf_dataset(train_observations, train_actions).shuffle(20000).batch(64)\n",
    "test_dataset = build_in_mem_tf_dataset(test_observations, test_actions).batch(64)\n",
    "train_dataset"
   ]
  },
  {
   "cell_type": "code",
   "execution_count": 18,
   "metadata": {},
   "outputs": [
    {
     "data": {
      "text/plain": [
       "12"
      ]
     },
     "execution_count": 18,
     "metadata": {},
     "output_type": "execute_result"
    }
   ],
   "source": [
    "train_dataset.element_spec[1].shape[-1]"
   ]
  },
  {
   "cell_type": "markdown",
   "metadata": {},
   "source": [
    "### Define model"
   ]
  },
  {
   "cell_type": "code",
   "execution_count": 4,
   "metadata": {},
   "outputs": [],
   "source": [
    "model = tf.keras.Sequential([\n",
    "    # tf.keras.layers.Flatten(), # (B x 376)\n",
    "    tf.keras.layers.Dense(100, activation=\"relu\"),\n",
    "    tf.keras.layers.Dense(100, activation=\"relu\"),\n",
    "    tf.keras.layers.Dense(100, activation=\"relu\"),\n",
    "    tf.keras.layers.Dense(12, activation=\"tanh\")\n",
    "])\n",
    "\n",
    "model.compile(optimizer=tf.keras.optimizers.Adam(),\n",
    "              loss=tf.keras.losses.MeanSquaredError(),\n",
    "              metrics=['mean_squared_error'])\n"
   ]
  },
  {
   "cell_type": "code",
   "execution_count": 5,
   "metadata": {},
   "outputs": [
    {
     "name": "stdout",
     "output_type": "stream",
     "text": [
      "Epoch 1/30\n",
      "WARNING:tensorflow:Layer dense is casting an input tensor from dtype float64 to the layer's dtype of float32, which is new behavior in TensorFlow 2.  The layer has dtype float32 because its dtype defaults to floatx.\n",
      "\n",
      "If you intended to run this layer in float32, you can safely ignore this warning. If in doubt, this warning is likely only an issue if you are porting a TensorFlow 1.X model to TensorFlow 2.\n",
      "\n",
      "To change all layers to have dtype float64 by default, call `tf.keras.backend.set_floatx('float64')`. To change just this layer, pass dtype='float64' to the layer constructor. If you are the author of this layer, you can disable autocasting by passing autocast=False to the base Layer constructor.\n",
      "\n",
      "313/313 [==============================] - 0s 1ms/step - loss: 0.0227 - mean_squared_error: 0.0227\n",
      "Epoch 2/30\n",
      "313/313 [==============================] - 0s 967us/step - loss: 0.0070 - mean_squared_error: 0.0070\n",
      "Epoch 3/30\n",
      "313/313 [==============================] - 0s 1ms/step - loss: 0.0044 - mean_squared_error: 0.0044\n",
      "Epoch 4/30\n",
      "313/313 [==============================] - 0s 1ms/step - loss: 0.0031 - mean_squared_error: 0.0031\n",
      "Epoch 5/30\n",
      "313/313 [==============================] - 0s 1ms/step - loss: 0.0025 - mean_squared_error: 0.0025\n",
      "Epoch 6/30\n",
      "313/313 [==============================] - 0s 1ms/step - loss: 0.0021 - mean_squared_error: 0.0021\n",
      "Epoch 7/30\n",
      "313/313 [==============================] - 0s 1ms/step - loss: 0.0018 - mean_squared_error: 0.0018\n",
      "Epoch 8/30\n",
      "313/313 [==============================] - 0s 1ms/step - loss: 0.0016 - mean_squared_error: 0.0016\n",
      "Epoch 9/30\n",
      "313/313 [==============================] - 0s 972us/step - loss: 0.0014 - mean_squared_error: 0.0014\n",
      "Epoch 10/30\n",
      "313/313 [==============================] - 0s 979us/step - loss: 0.0013 - mean_squared_error: 0.0013\n",
      "Epoch 11/30\n",
      "313/313 [==============================] - 0s 1ms/step - loss: 0.0011 - mean_squared_error: 0.0011\n",
      "Epoch 12/30\n",
      "313/313 [==============================] - 0s 1ms/step - loss: 0.0010 - mean_squared_error: 0.0010\n",
      "Epoch 13/30\n",
      "313/313 [==============================] - 0s 1ms/step - loss: 9.3315e-04 - mean_squared_error: 9.3315e-04\n",
      "Epoch 14/30\n",
      "313/313 [==============================] - 0s 1ms/step - loss: 8.6272e-04 - mean_squared_error: 8.6272e-04\n",
      "Epoch 15/30\n",
      "313/313 [==============================] - 0s 985us/step - loss: 8.0997e-04 - mean_squared_error: 8.0997e-04\n",
      "Epoch 16/30\n",
      "313/313 [==============================] - 0s 1ms/step - loss: 7.5047e-04 - mean_squared_error: 7.5047e-04\n",
      "Epoch 17/30\n",
      "313/313 [==============================] - 0s 1ms/step - loss: 6.9188e-04 - mean_squared_error: 6.9188e-04\n",
      "Epoch 18/30\n",
      "313/313 [==============================] - 0s 1ms/step - loss: 6.8322e-04 - mean_squared_error: 6.8322e-04\n",
      "Epoch 19/30\n",
      "313/313 [==============================] - 0s 1ms/step - loss: 6.1337e-04 - mean_squared_error: 6.1337e-04\n",
      "Epoch 20/30\n",
      "313/313 [==============================] - 0s 1ms/step - loss: 5.8325e-04 - mean_squared_error: 5.8325e-04\n",
      "Epoch 21/30\n",
      "313/313 [==============================] - 0s 1ms/step - loss: 5.4368e-04 - mean_squared_error: 5.4368e-04\n",
      "Epoch 22/30\n",
      "313/313 [==============================] - 0s 1ms/step - loss: 5.2157e-04 - mean_squared_error: 5.2157e-04\n",
      "Epoch 23/30\n",
      "313/313 [==============================] - 0s 998us/step - loss: 5.2236e-04 - mean_squared_error: 5.2236e-04\n",
      "Epoch 24/30\n",
      "313/313 [==============================] - 0s 1ms/step - loss: 4.5949e-04 - mean_squared_error: 4.5949e-04\n",
      "Epoch 25/30\n",
      "313/313 [==============================] - 0s 1ms/step - loss: 4.4698e-04 - mean_squared_error: 4.4698e-04\n",
      "Epoch 26/30\n",
      "313/313 [==============================] - 0s 1ms/step - loss: 4.4631e-04 - mean_squared_error: 4.4631e-04\n",
      "Epoch 27/30\n",
      "313/313 [==============================] - 0s 1ms/step - loss: 4.0539e-04 - mean_squared_error: 4.0539e-04\n",
      "Epoch 28/30\n",
      "313/313 [==============================] - 0s 1ms/step - loss: 4.1692e-04 - mean_squared_error: 4.1692e-04\n",
      "Epoch 29/30\n",
      "313/313 [==============================] - 0s 1ms/step - loss: 4.0022e-04 - mean_squared_error: 4.0022e-04\n",
      "Epoch 30/30\n",
      "313/313 [==============================] - 0s 1ms/step - loss: 3.6267e-04 - mean_squared_error: 3.6267e-04\n"
     ]
    },
    {
     "data": {
      "text/plain": [
       "<tensorflow.python.keras.callbacks.History at 0x12b7ad518>"
      ]
     },
     "execution_count": 5,
     "metadata": {},
     "output_type": "execute_result"
    }
   ],
   "source": [
    "model.fit(train_dataset, epochs=30)"
   ]
  },
  {
   "cell_type": "code",
   "execution_count": 6,
   "metadata": {},
   "outputs": [
    {
     "name": "stdout",
     "output_type": "stream",
     "text": [
      "79/79 [==============================] - 0s 2ms/step - loss: 4.3378e-04 - mean_squared_error: 4.3378e-04\n"
     ]
    },
    {
     "data": {
      "text/plain": [
       "[0.00043378453119657934, 0.00043378453119657934]"
      ]
     },
     "execution_count": 6,
     "metadata": {},
     "output_type": "execute_result"
    }
   ],
   "source": [
    "model.evaluate(test_dataset)"
   ]
  },
  {
   "cell_type": "code",
   "execution_count": 7,
   "metadata": {},
   "outputs": [
    {
     "name": "stdout",
     "output_type": "stream",
     "text": [
      "Model: \"sequential\"\n",
      "_________________________________________________________________\n",
      "Layer (type)                 Output Shape              Param #   \n",
      "=================================================================\n",
      "dense (Dense)                (None, 100)               1800      \n",
      "_________________________________________________________________\n",
      "dense_1 (Dense)              (None, 100)               10100     \n",
      "_________________________________________________________________\n",
      "dense_2 (Dense)              (None, 100)               10100     \n",
      "_________________________________________________________________\n",
      "dense_3 (Dense)              (None, 12)                1212      \n",
      "=================================================================\n",
      "Total params: 23,212\n",
      "Trainable params: 23,212\n",
      "Non-trainable params: 0\n",
      "_________________________________________________________________\n"
     ]
    }
   ],
   "source": [
    "model.summary()"
   ]
  },
  {
   "cell_type": "markdown",
   "metadata": {},
   "source": [
    "### Test in Gym env"
   ]
  },
  {
   "cell_type": "code",
   "execution_count": 8,
   "metadata": {},
   "outputs": [],
   "source": [
    "def decode_cos_sin(a):\n",
    "    dim = a.shape[1]\n",
    "    return 2*np.arctan(np.divide(a[:, dim//2:], a[:, :dim//2]))\n",
    "\n",
    "# decode_cos_sin(action)"
   ]
  },
  {
   "cell_type": "code",
   "execution_count": 19,
   "metadata": {},
   "outputs": [
    {
     "name": "stderr",
     "output_type": "stream",
     "text": [
      "/Users/shawnlin/.pyenv/versions/3.5.10/envs/3.5-RL/lib/python3.5/site-packages/gym/envs/registration.py:14: PkgResourcesDeprecationWarning: Parameters to load are deprecated.  Call .resolve and .require separately.\n",
      "  result = entry_point.load(False)\n"
     ]
    },
    {
     "name": "stdout",
     "output_type": "stream",
     "text": [
      "\u001b[33mWARN: gym.spaces.Box autodetected dtype as <class 'numpy.float32'>. Please provide explicit dtype.\u001b[0m\n",
      "\u001b[33mWARN: gym.spaces.Box autodetected dtype as <class 'numpy.float32'>. Please provide explicit dtype.\u001b[0m\n",
      "1000\n",
      "iter 0\n",
      "Creating window glfw\n",
      "1/1000\n",
      "101/1000\n",
      "201/1000\n",
      "301/1000\n",
      "401/1000\n",
      "501/1000\n",
      "601/1000\n",
      "701/1000\n",
      "801/1000\n",
      "901/1000\n",
      "total: 3953.901803943034 1000\n",
      "iter 1\n",
      "1/1000\n",
      "101/1000\n",
      "201/1000\n",
      "301/1000\n",
      "401/1000\n",
      "501/1000\n",
      "601/1000\n",
      "701/1000\n",
      "801/1000\n",
      "901/1000\n",
      "total: 4009.8593303453786 1000\n",
      "iter 2\n",
      "1/1000\n",
      "101/1000\n",
      "201/1000\n",
      "301/1000\n",
      "401/1000\n",
      "501/1000\n",
      "601/1000\n",
      "701/1000\n",
      "801/1000\n",
      "901/1000\n",
      "total: 4054.0328038522744 1000\n",
      "iter 3\n",
      "1/1000\n",
      "101/1000\n",
      "201/1000\n",
      "301/1000\n",
      "401/1000\n",
      "501/1000\n",
      "601/1000\n",
      "701/1000\n",
      "801/1000\n",
      "901/1000\n",
      "total: 4051.243492472331 1000\n",
      "iter 4\n",
      "1/1000\n",
      "101/1000\n",
      "201/1000\n",
      "301/1000\n",
      "401/1000\n",
      "501/1000\n",
      "601/1000\n",
      "701/1000\n",
      "801/1000\n",
      "901/1000\n",
      "total: 4129.3581216501925 1000\n"
     ]
    }
   ],
   "source": [
    "# for o, a in test_dataset:\n",
    "#     a_predict = model.predict(o)\n",
    "#     print(a_predict)\n",
    "#     print(a)\n",
    "#     break\n",
    "\n",
    "    \n",
    "import gym\n",
    "# env = gym.make(\"Humanoid-v2\")\n",
    "env = gym.make(\"HalfCheetah-v2\")\n",
    "max_steps = env.spec.timestep_limit\n",
    "print(max_steps)\n",
    "expert_policy_fn = load_policy.load_policy(\"../experts/HalfCheetah-v2.pkl\")\n",
    "\n",
    "returns = []\n",
    "observations = []\n",
    "actions = []\n",
    "for i in range(5):\n",
    "    print('iter', i)\n",
    "    obs = env.reset()\n",
    "    done = False\n",
    "    totalr = 0.\n",
    "    steps = 0\n",
    "    while not done:\n",
    "#         action = decode_cos_sin(model.predict(obs[None,:]))\n",
    "        action = decode_cos_sin(model.predict(obs[None,:]))\n",
    "        expert_action = expert_policy_fn(obs[None, :])\n",
    "#         encoded = cos_sin_encoding(expert_action)\n",
    "#         decoded = decode_cos_sin(encoded)\n",
    "#         print(action)\n",
    "#         print(decode_cos_sin(action))\n",
    "#         print(expert_action)\n",
    "#         print(\"encode\", encoded)\n",
    "#         print(\"decode\", decoded)\n",
    "#         input()\n",
    "        \n",
    "        #observations.append(obs)\n",
    "        actions.append(action)\n",
    "        obs, r, done, _ = env.step(action)\n",
    "#         print(\"r:\", r)\n",
    "        totalr += r\n",
    "        steps += 1\n",
    "        if True:\n",
    "            env.render()\n",
    "        if steps % 100 == 1:\n",
    "            print(\"%i/%i\"%(steps, max_steps))\n",
    "#             print(action, expert_action)\n",
    "        if steps >= max_steps:\n",
    "            break\n",
    "    print(\"total:\", totalr, steps)\n",
    "    # print(\"Average reward: %.2f\" % (float(totalr)/steps))\n",
    "#     returns.append(totalr)"
   ]
  },
  {
   "cell_type": "markdown",
   "metadata": {},
   "source": [
    "### Dagger Improvement"
   ]
  },
  {
   "cell_type": "code",
   "execution_count": 39,
   "metadata": {},
   "outputs": [
    {
     "data": {
      "text/plain": [
       "array([[ 2.0833359e+00,  2.1694973e-03, -4.6381602e-01, -2.2720672e-01,\n",
       "        -6.9744051e-02,  2.8807750e+00,  1.9305988e-01, -2.3208709e-01,\n",
       "         3.3280158e-01,  2.6169517e+00,  8.9953852e-01,  6.0308278e-01,\n",
       "        -2.0367348e+00,  5.0216019e-01, -6.5781331e-01,  5.1286876e-02,\n",
       "         6.7601019e-01]], dtype=float32)"
      ]
     },
     "execution_count": 39,
     "metadata": {},
     "output_type": "execute_result"
    }
   ],
   "source": [
    "action = (model.predict(obs[None,:]))\n",
    "action.shape\n",
    "action\n",
    "# expert_action = expert_policy_fn(obs[None, :])\n",
    "# encoded = cos_sin_encoding(expert_action)\n",
    "# decoded = decode_cos_sin(encoded)"
   ]
  },
  {
   "cell_type": "code",
   "execution_count": 44,
   "metadata": {},
   "outputs": [
    {
     "name": "stdout",
     "output_type": "stream",
     "text": [
      "tf.Tensor(\n",
      "[[-0.49039206  0.9999977   0.89435184  0.97429943  0.99756885 -0.96617943\n",
      "   0.98142177  0.97318846  0.9451308  -0.8655038   0.62197137  0.82359105\n",
      "  -0.44926143  0.87654483  0.79133105  0.9986851   0.7800753 ]], shape=(1, 17), dtype=float32) tf.Tensor(\n",
      "[[ 0.8715019   0.0021695  -0.4473642  -0.22525692 -0.06968752  0.25787067\n",
      "   0.19186282 -0.23000915  0.32669216  0.5009023   0.78304     0.5671841\n",
      "  -0.8934003   0.48132017 -0.6113879   0.05126439  0.62568563]], shape=(1, 17), dtype=float32)\n"
     ]
    }
   ],
   "source": [
    "a = cos_sin_encoding(action)\n",
    "# decode_cos_sin(a)\n",
    "print(a[:, :17], a[:, 17:])"
   ]
  },
  {
   "cell_type": "code",
   "execution_count": 46,
   "metadata": {},
   "outputs": [
    {
     "data": {
      "text/plain": [
       "array([[-1.7771534 ,  0.0021695 , -0.5002105 , -0.23119886, -0.06985736,\n",
       "        -0.2668973 ,  0.19549477, -0.23634595,  0.34565815, -0.5787407 ,\n",
       "         1.2589647 ,  0.688672  ,  1.9885979 ,  0.5491107 , -0.77260697,\n",
       "         0.05133189,  0.8020836 ]], dtype=float32)"
      ]
     },
     "execution_count": 46,
     "metadata": {},
     "output_type": "execute_result"
    }
   ],
   "source": [
    "aa = np.divide(a[:, -17:], a[:, :17])\n",
    "aa"
   ]
  },
  {
   "cell_type": "code",
   "execution_count": 47,
   "metadata": {},
   "outputs": [
    {
     "data": {
      "text/plain": [
       "array([[-1.0582567 ,  0.0021695 , -0.46381602, -0.22720672, -0.06974406,\n",
       "        -0.26081768,  0.19305988, -0.23208709,  0.33280158, -0.524641  ,\n",
       "         0.8995385 ,  0.6030828 ,  1.1048578 ,  0.5021602 , -0.6578133 ,\n",
       "         0.05128688,  0.67601013]], dtype=float32)"
      ]
     },
     "execution_count": 47,
     "metadata": {},
     "output_type": "execute_result"
    }
   ],
   "source": [
    "np.arctan(aa)"
   ]
  },
  {
   "cell_type": "code",
   "execution_count": 31,
   "metadata": {},
   "outputs": [
    {
     "data": {
      "text/plain": [
       "<tf.Tensor: shape=(1, 17), dtype=float64, numpy=\n",
       "array([[ 2.06533211,  0.02771716, -0.33934712, -0.34991579, -0.01315385,\n",
       "         2.78224855,  0.26335697, -0.30198193,  0.30649744,  2.46249705,\n",
       "         1.03022721,  0.57392961, -1.92479813,  0.57156432, -0.65316731,\n",
       "        -0.04659016,  0.59989793]])>"
      ]
     },
     "execution_count": 31,
     "metadata": {},
     "output_type": "execute_result"
    }
   ],
   "source": [
    "expert_action = expert_policy_fn(obs[None, :])\n",
    "expert_action"
   ]
  },
  {
   "cell_type": "code",
   "execution_count": null,
   "metadata": {},
   "outputs": [],
   "source": []
  }
 ],
 "metadata": {
  "kernelspec": {
   "display_name": "Python 3",
   "language": "python",
   "name": "python3"
  },
  "language_info": {
   "codemirror_mode": {
    "name": "ipython",
    "version": 3
   },
   "file_extension": ".py",
   "mimetype": "text/x-python",
   "name": "python",
   "nbconvert_exporter": "python",
   "pygments_lexer": "ipython3",
   "version": "3.5.10"
  }
 },
 "nbformat": 4,
 "nbformat_minor": 4
}
