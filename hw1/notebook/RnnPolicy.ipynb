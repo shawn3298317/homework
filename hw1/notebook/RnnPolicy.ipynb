{
 "cells": [
  {
   "cell_type": "code",
   "execution_count": 1,
   "metadata": {},
   "outputs": [],
   "source": [
    "import os\n",
    "import sys\n",
    "sys.path.append(\"../behavioral_cloning\")\n",
    "sys.path.append(\"../\")\n",
    "from build_seq_dataset import *\n",
    "import load_policy\n",
    "import gym\n",
    "import seaborn as sbn\n",
    "import numpy as np"
   ]
  },
  {
   "cell_type": "code",
   "execution_count": 2,
   "metadata": {},
   "outputs": [],
   "source": [
    "N_WINDOW = 5"
   ]
  },
  {
   "cell_type": "markdown",
   "metadata": {},
   "source": [
    "### Load & prep humanoid dataset"
   ]
  },
  {
   "cell_type": "code",
   "execution_count": 3,
   "metadata": {},
   "outputs": [],
   "source": [
    "train_observations, train_actions = load_expert_data(\"../expert_data/train/Humanoid-v2.pkl\")\n",
    "test_observations, test_actions = load_expert_data(\"../expert_data/test/Humanoid-v2.pkl\")"
   ]
  },
  {
   "cell_type": "code",
   "execution_count": 4,
   "metadata": {},
   "outputs": [
    {
     "data": {
      "text/plain": [
       "<matplotlib.axes._subplots.AxesSubplot at 0x149c18630>"
      ]
     },
     "execution_count": 4,
     "metadata": {},
     "output_type": "execute_result"
    },
    {
     "data": {
      "image/png": "[encoded data removed]",
      "text/plain": [
       "<Figure size 432x288 with 1 Axes>"
      ]
     },
     "metadata": {
      "needs_background": "light"
     },
     "output_type": "display_data"
    }
   ],
   "source": [
    "sbn.distplot(train_actions.ravel())"
   ]
  },
  {
   "cell_type": "code",
   "execution_count": 5,
   "metadata": {},
   "outputs": [
    {
     "data": {
      "text/plain": [
       "<matplotlib.axes._subplots.AxesSubplot at 0x14dcfd630>"
      ]
     },
     "execution_count": 5,
     "metadata": {},
     "output_type": "execute_result"
    },
    {
     "data": {
      "image/png": "[encoded data removed]",
      "text/plain": [
       "<Figure size 432x288 with 1 Axes>"
      ]
     },
     "metadata": {
      "needs_background": "light"
     },
     "output_type": "display_data"
    }
   ],
   "source": [
    "sbn.distplot(train_observations.ravel())"
   ]
  },
  {
   "cell_type": "code",
   "execution_count": 4,
   "metadata": {},
   "outputs": [],
   "source": [
    "train_dataset = build_in_mem_tf_dataset(train_observations, train_actions)\n",
    "train_dataset = train_dataset.shuffle(len(train_dataset), reshuffle_each_iteration=True).batch(64)\n",
    "# test_dataset = build_in_mem_tf_dataset(test_observations, test_actions).batch(64)"
   ]
  },
  {
   "cell_type": "code",
   "execution_count": 5,
   "metadata": {},
   "outputs": [
    {
     "data": {
      "text/plain": [
       "<BatchDataset shapes: ((None, 5, 376), (None, 34)), types: (tf.float64, tf.float64)>"
      ]
     },
     "execution_count": 5,
     "metadata": {},
     "output_type": "execute_result"
    }
   ],
   "source": [
    "train_dataset"
   ]
  },
  {
   "cell_type": "markdown",
   "metadata": {},
   "source": [
    "### Define model"
   ]
  },
  {
   "cell_type": "code",
   "execution_count": 5,
   "metadata": {},
   "outputs": [],
   "source": [
    "model = tf.keras.Sequential([\n",
    "    tf.keras.layers.LSTM(256, activation=\"relu\", return_sequences=True), # state embedding\n",
    "    tf.keras.layers.LSTM(128, activation=\"relu\", return_sequences=True),\n",
    "    tf.keras.layers.LSTM(64, activation=\"relu\"),\n",
    "    tf.keras.layers.Dense(34, activation=\"tanh\")\n",
    "])\n",
    "\n",
    "model.compile(optimizer=tf.keras.optimizers.Adam(),\n",
    "              loss=tf.keras.losses.MeanSquaredError(),\n",
    "              metrics=['mean_squared_error'])"
   ]
  },
  {
   "cell_type": "code",
   "execution_count": 6,
   "metadata": {},
   "outputs": [
    {
     "name": "stdout",
     "output_type": "stream",
     "text": [
      "Epoch 1/10\n",
      "WARNING:tensorflow:Layer lstm is casting an input tensor from dtype float64 to the layer's dtype of float32, which is new behavior in TensorFlow 2.  The layer has dtype float32 because its dtype defaults to floatx.\n",
      "\n",
      "If you intended to run this layer in float32, you can safely ignore this warning. If in doubt, this warning is likely only an issue if you are porting a TensorFlow 1.X model to TensorFlow 2.\n",
      "\n",
      "To change all layers to have dtype float64 by default, call `tf.keras.backend.set_floatx('float64')`. To change just this layer, pass dtype='float64' to the layer constructor. If you are the author of this layer, you can disable autocasting by passing autocast=False to the base Layer constructor.\n",
      "\n",
      "298/298 [==============================] - 6s 22ms/step - mean_squared_error: 0.1060 - loss: 0.1060\n",
      "Epoch 2/10\n",
      "298/298 [==============================] - 6s 21ms/step - mean_squared_error: 0.0504 - loss: 0.0504\n",
      "Epoch 3/10\n",
      "298/298 [==============================] - 6s 20ms/step - mean_squared_error: 0.0394 - loss: 0.0394\n",
      "Epoch 4/10\n",
      "298/298 [==============================] - 6s 21ms/step - mean_squared_error: 0.0332 - loss: 0.0332\n",
      "Epoch 5/10\n",
      "298/298 [==============================] - 6s 21ms/step - mean_squared_error: 0.0288 - loss: 0.0288\n",
      "Epoch 6/10\n",
      "298/298 [==============================] - 6s 21ms/step - mean_squared_error: 0.0255 - loss: 0.0255\n",
      "Epoch 7/10\n",
      "298/298 [==============================] - 6s 21ms/step - mean_squared_error: 0.0231 - loss: 0.0231\n",
      "Epoch 8/10\n",
      "298/298 [==============================] - 7s 23ms/step - mean_squared_error: 0.0214 - loss: 0.0214\n",
      "Epoch 9/10\n",
      "298/298 [==============================] - 7s 23ms/step - mean_squared_error: 0.0199 - loss: 0.0199\n",
      "Epoch 10/10\n",
      "298/298 [==============================] - 6s 22ms/step - mean_squared_error: 0.0189 - loss: 0.0189\n"
     ]
    },
    {
     "data": {
      "text/plain": [
       "<tensorflow.python.keras.callbacks.History at 0x148c4df28>"
      ]
     },
     "execution_count": 6,
     "metadata": {},
     "output_type": "execute_result"
    }
   ],
   "source": [
    "model.fit(train_dataset, epochs=10)"
   ]
  },
  {
   "cell_type": "code",
   "execution_count": 7,
   "metadata": {},
   "outputs": [
    {
     "name": "stdout",
     "output_type": "stream",
     "text": [
      "79/79 [==============================] - 1s 9ms/step - mean_squared_error: 0.0268 - loss: 0.0268\n"
     ]
    },
    {
     "data": {
      "text/plain": [
       "[0.026836954057216644, 0.026836954057216644]"
      ]
     },
     "execution_count": 7,
     "metadata": {},
     "output_type": "execute_result"
    }
   ],
   "source": [
    "model.evaluate(test_dataset)"
   ]
  },
  {
   "cell_type": "markdown",
   "metadata": {},
   "source": [
    "### Test in Gym env"
   ]
  },
  {
   "cell_type": "code",
   "execution_count": 8,
   "metadata": {},
   "outputs": [],
   "source": [
    "def decode_cos_sin(a):\n",
    "    return np.arctan(np.divide(a[:, -17:], a[:, :17]))"
   ]
  },
  {
   "cell_type": "code",
   "execution_count": 6,
   "metadata": {
    "scrolled": true
   },
   "outputs": [
    {
     "name": "stderr",
     "output_type": "stream",
     "text": [
      "/Users/shawnlin/.pyenv/versions/3.5.10/envs/3.5-RL/lib/python3.5/site-packages/gym/envs/registration.py:14: PkgResourcesDeprecationWarning: Parameters to load are deprecated.  Call .resolve and .require separately.\n",
      "  result = entry_point.load(False)\n"
     ]
    },
    {
     "name": "stdout",
     "output_type": "stream",
     "text": [
      "\u001b[33mWARN: gym.spaces.Box autodetected dtype as <class 'numpy.float32'>. Please provide explicit dtype.\u001b[0m\n",
      "\u001b[33mWARN: gym.spaces.Box autodetected dtype as <class 'numpy.float32'>. Please provide explicit dtype.\u001b[0m\n",
      "1000\n",
      "iter 0\n"
     ]
    },
    {
     "ename": "NameError",
     "evalue": "name 'decode_cos_sin' is not defined",
     "output_type": "error",
     "traceback": [
      "\u001b[0;31m---------------------------------------------------------------------------\u001b[0m",
      "\u001b[0;31mNameError\u001b[0m                                 Traceback (most recent call last)",
      "\u001b[0;32m<ipython-input-6-eeea720b4413>\u001b[0m in \u001b[0;36m<module>\u001b[0;34m\u001b[0m\n\u001b[1;32m     24\u001b[0m             \u001b[0mrolling_input\u001b[0m \u001b[0;34m=\u001b[0m \u001b[0mnp\u001b[0m\u001b[0;34m.\u001b[0m\u001b[0mappend\u001b[0m\u001b[0;34m(\u001b[0m\u001b[0mnp\u001b[0m\u001b[0;34m.\u001b[0m\u001b[0mzeros\u001b[0m\u001b[0;34m(\u001b[0m\u001b[0;34m(\u001b[0m\u001b[0;34m(\u001b[0m\u001b[0mN_WINDOW\u001b[0m \u001b[0;34m-\u001b[0m \u001b[0mlen\u001b[0m\u001b[0;34m(\u001b[0m\u001b[0mrolling_input\u001b[0m\u001b[0;34m)\u001b[0m\u001b[0;34m)\u001b[0m\u001b[0;34m,\u001b[0m \u001b[0;36m376\u001b[0m\u001b[0;34m)\u001b[0m\u001b[0;34m)\u001b[0m\u001b[0;34m,\u001b[0m \u001b[0mnp\u001b[0m\u001b[0;34m.\u001b[0m\u001b[0marray\u001b[0m\u001b[0;34m(\u001b[0m\u001b[0mrolling_input\u001b[0m\u001b[0;34m)\u001b[0m\u001b[0;34m,\u001b[0m \u001b[0;36m0\u001b[0m\u001b[0;34m)\u001b[0m\u001b[0;34m\u001b[0m\u001b[0m\n\u001b[1;32m     25\u001b[0m \u001b[0;34m\u001b[0m\u001b[0m\n\u001b[0;32m---> 26\u001b[0;31m         \u001b[0maction\u001b[0m \u001b[0;34m=\u001b[0m \u001b[0mdecode_cos_sin\u001b[0m\u001b[0;34m(\u001b[0m\u001b[0mmodel\u001b[0m\u001b[0;34m.\u001b[0m\u001b[0mpredict\u001b[0m\u001b[0;34m(\u001b[0m\u001b[0mnp\u001b[0m\u001b[0;34m.\u001b[0m\u001b[0marray\u001b[0m\u001b[0;34m(\u001b[0m\u001b[0;34m[\u001b[0m\u001b[0mrolling_input\u001b[0m\u001b[0;34m]\u001b[0m\u001b[0;34m)\u001b[0m\u001b[0;34m)\u001b[0m\u001b[0;34m)\u001b[0m\u001b[0;34m\u001b[0m\u001b[0m\n\u001b[0m\u001b[1;32m     27\u001b[0m \u001b[0;34m\u001b[0m\u001b[0m\n\u001b[1;32m     28\u001b[0m \u001b[0;31m#         observations.append(np.array(rolling_input))\u001b[0m\u001b[0;34m\u001b[0m\u001b[0;34m\u001b[0m\u001b[0m\n",
      "\u001b[0;31mNameError\u001b[0m: name 'decode_cos_sin' is not defined"
     ]
    }
   ],
   "source": [
    "env = gym.make(\"Humanoid-v2\")\n",
    "max_steps = env.spec.timestep_limit\n",
    "print(max_steps)\n",
    "\n",
    "expert_policy_fn = load_policy.load_policy(\"../experts/Humanoid-v2.pkl\")\n",
    "\n",
    "returns = []\n",
    "observations = []\n",
    "actions = []\n",
    "expert_actions = []\n",
    "for i in range(50):\n",
    "    print('iter', i)\n",
    "    obs = env.reset()\n",
    "    done = False\n",
    "    totalr = 0.\n",
    "    steps = 0\n",
    "    \n",
    "    rolling_input = []\n",
    "    while not done:\n",
    "        if len(rolling_input) >= N_WINDOW:\n",
    "            rolling_input = np.append(rolling_input[1:], obs[None, :], 0)\n",
    "        else:\n",
    "            rolling_input.append(obs[:])\n",
    "            rolling_input = np.append(np.zeros(((N_WINDOW - len(rolling_input)), 376)), np.array(rolling_input), 0)\n",
    "\n",
    "        action = decode_cos_sin(model.predict(np.array([rolling_input])))\n",
    "        \n",
    "#         observations.append(np.array(rolling_input))\n",
    "        observations.append(obs[:])\n",
    "        actions.append(action)\n",
    "        expert_actions.append(expert_policy_fn(obs[None, :]).numpy())\n",
    "        obs, r, done, _ = env.step(action)\n",
    "#         print(\"r:\", r)\n",
    "        totalr += r\n",
    "        steps += 1\n",
    "        if True:\n",
    "            env.render()\n",
    "        if steps % 100 == 0: print(\"%i/%i\"%(steps, max_steps))\n",
    "        if steps >= max_steps:\n",
    "            break\n",
    "    print(\"total:\", totalr, steps)\n",
    "    print(\"Average reward: %.2f\" % (float(totalr)/steps))\n",
    "#     returns.append(totalr)"
   ]
  },
  {
   "cell_type": "markdown",
   "metadata": {},
   "source": [
    "### Dagger Improvement - Generate new dataset"
   ]
  },
  {
   "cell_type": "code",
   "execution_count": 25,
   "metadata": {},
   "outputs": [
    {
     "data": {
      "text/plain": [
       "(933, 376)"
      ]
     },
     "execution_count": 25,
     "metadata": {},
     "output_type": "execute_result"
    }
   ],
   "source": [
    "np.array(observations).shape"
   ]
  },
  {
   "cell_type": "code",
   "execution_count": 35,
   "metadata": {},
   "outputs": [
    {
     "data": {
      "text/plain": [
       "(1198, 1, 17)"
      ]
     },
     "execution_count": 35,
     "metadata": {},
     "output_type": "execute_result"
    }
   ],
   "source": [
    "np.array(expert_actions).shape"
   ]
  },
  {
   "cell_type": "code",
   "execution_count": 26,
   "metadata": {},
   "outputs": [],
   "source": [
    "dagger_data = {'observations': np.array(observations),\n",
    "               'actions': np.array(expert_actions)}\n",
    "\n",
    "with open(os.path.join('../dagger_data/train', \"Humanoid-v2-rnn-step0.pkl\"), 'wb') as f:\n",
    "    pickle.dump(dagger_data, f, pickle.HIGHEST_PROTOCOL)"
   ]
  },
  {
   "cell_type": "code",
   "execution_count": 27,
   "metadata": {},
   "outputs": [],
   "source": [
    "# Sample from both dagger_data and expert_data\n",
    "train_dagger_observations, train_dagger_actions = load_expert_data(\"../dagger_data/train/Humanoid-v2-rnn-step0.pkl\")\n",
    "train_dagger_observations.shape\n",
    "train_dagger_dataset = build_in_mem_tf_dataset(train_dagger_observations, train_dagger_actions)\n",
    "train_dagger_dataset = train_dagger_dataset.shuffle(len(train_dagger_dataset), reshuffle_each_iteration=True).batch(64)\n"
   ]
  },
  {
   "cell_type": "code",
   "execution_count": 28,
   "metadata": {},
   "outputs": [
    {
     "data": {
      "text/plain": [
       "15"
      ]
     },
     "execution_count": 28,
     "metadata": {},
     "output_type": "execute_result"
    }
   ],
   "source": [
    "len(train_dagger_dataset)"
   ]
  },
  {
   "cell_type": "code",
   "execution_count": 31,
   "metadata": {},
   "outputs": [
    {
     "data": {
      "text/plain": [
       "336"
      ]
     },
     "execution_count": 31,
     "metadata": {},
     "output_type": "execute_result"
    }
   ],
   "source": [
    "len(train_dataset)"
   ]
  },
  {
   "cell_type": "code",
   "execution_count": 7,
   "metadata": {},
   "outputs": [
    {
     "ename": "NameError",
     "evalue": "name 'train_dagger_dataset' is not defined",
     "output_type": "error",
     "traceback": [
      "\u001b[0;31m---------------------------------------------------------------------------\u001b[0m",
      "\u001b[0;31mNameError\u001b[0m                                 Traceback (most recent call last)",
      "\u001b[0;32m<ipython-input-7-55730d323061>\u001b[0m in \u001b[0;36m<module>\u001b[0;34m\u001b[0m\n\u001b[1;32m      1\u001b[0m \u001b[0;31m# new_train_dataset = tf.data.experimental.sample_from_datasets(\u001b[0m\u001b[0;34m\u001b[0m\u001b[0;34m\u001b[0m\u001b[0m\n\u001b[1;32m      2\u001b[0m \u001b[0;31m#     [train_dataset, train_dagger_dataset], [0.8, 0.2])#.batch(64)\u001b[0m\u001b[0;34m\u001b[0m\u001b[0;34m\u001b[0m\u001b[0m\n\u001b[0;32m----> 3\u001b[0;31m \u001b[0mtrain_dataset\u001b[0m \u001b[0;34m=\u001b[0m \u001b[0mtrain_dataset\u001b[0m\u001b[0;34m.\u001b[0m\u001b[0mconcatenate\u001b[0m\u001b[0;34m(\u001b[0m\u001b[0mtrain_dagger_dataset\u001b[0m\u001b[0;34m)\u001b[0m\u001b[0;34m\u001b[0m\u001b[0m\n\u001b[0m",
      "\u001b[0;31mNameError\u001b[0m: name 'train_dagger_dataset' is not defined"
     ]
    }
   ],
   "source": [
    "# new_train_dataset = tf.data.experimental.sample_from_datasets(\n",
    "#     [train_dataset, train_dagger_dataset], [0.8, 0.2])#.batch(64)\n",
    "train_dataset = train_dataset.concatenate(train_dagger_dataset)"
   ]
  },
  {
   "cell_type": "code",
   "execution_count": 101,
   "metadata": {},
   "outputs": [
    {
     "name": "stdout",
     "output_type": "stream",
     "text": [
      "(64, 5, 376) (64, 34)\n"
     ]
    }
   ],
   "source": [
    "for o, a in train_dataset:\n",
    "    print(o.shape, a.shape)\n",
    "    break"
   ]
  },
  {
   "cell_type": "code",
   "execution_count": 32,
   "metadata": {},
   "outputs": [
    {
     "name": "stdout",
     "output_type": "stream",
     "text": [
      "Epoch 1/10\n",
      "WARNING:tensorflow:Layer lstm_9 is casting an input tensor from dtype float64 to the layer's dtype of float32, which is new behavior in TensorFlow 2.  The layer has dtype float32 because its dtype defaults to floatx.\n",
      "\n",
      "If you intended to run this layer in float32, you can safely ignore this warning. If in doubt, this warning is likely only an issue if you are porting a TensorFlow 1.X model to TensorFlow 2.\n",
      "\n",
      "To change all layers to have dtype float64 by default, call `tf.keras.backend.set_floatx('float64')`. To change just this layer, pass dtype='float64' to the layer constructor. If you are the author of this layer, you can disable autocasting by passing autocast=False to the base Layer constructor.\n",
      "\n",
      "336/336 [==============================] - 7s 20ms/step - mean_squared_error: 0.1320 - loss: 0.1320\n",
      "Epoch 2/10\n",
      "336/336 [==============================] - 7s 20ms/step - mean_squared_error: 0.0842 - loss: 0.0842\n",
      "Epoch 3/10\n",
      "336/336 [==============================] - 7s 20ms/step - mean_squared_error: 0.0675 - loss: 0.0675\n",
      "Epoch 4/10\n",
      "336/336 [==============================] - 7s 22ms/step - mean_squared_error: 0.0564 - loss: 0.0564\n",
      "Epoch 5/10\n",
      "336/336 [==============================] - 7s 21ms/step - mean_squared_error: 0.0493 - loss: 0.0493\n",
      "Epoch 6/10\n",
      "336/336 [==============================] - 7s 21ms/step - mean_squared_error: 0.0428 - loss: 0.0428\n",
      "Epoch 7/10\n",
      "336/336 [==============================] - 7s 21ms/step - mean_squared_error: 0.0367 - loss: 0.0367\n",
      "Epoch 8/10\n",
      "336/336 [==============================] - 7s 21ms/step - mean_squared_error: 0.0324 - loss: 0.0324\n",
      "Epoch 9/10\n",
      "336/336 [==============================] - 7s 22ms/step - mean_squared_error: 0.0294 - loss: 0.0294\n",
      "Epoch 10/10\n",
      "336/336 [==============================] - 7s 21ms/step - mean_squared_error: 0.0268 - loss: 0.0268\n",
      "79/79 [==============================] - 1s 8ms/step - mean_squared_error: 0.0570 - loss: 0.0570\n"
     ]
    },
    {
     "data": {
      "text/plain": [
       "[0.05700341984629631, 0.05700341984629631]"
      ]
     },
     "execution_count": 32,
     "metadata": {},
     "output_type": "execute_result"
    }
   ],
   "source": [
    "model = tf.keras.Sequential([\n",
    "    tf.keras.layers.LSTM(256, activation=\"relu\", return_sequences=True), # state embedding\n",
    "    tf.keras.layers.LSTM(128, activation=\"relu\", return_sequences=True),\n",
    "    tf.keras.layers.LSTM(64, activation=\"relu\"),\n",
    "    tf.keras.layers.Dense(34, activation=\"tanh\")\n",
    "])\n",
    "\n",
    "model.compile(optimizer=tf.keras.optimizers.Adam(),\n",
    "              loss=tf.keras.losses.MeanSquaredError(),\n",
    "              metrics=['mean_squared_error'])\n",
    "\n",
    "model.fit(train_dataset, epochs=10)\n",
    "model.evaluate(test_dataset)"
   ]
  },
  {
   "cell_type": "code",
   "execution_count": null,
   "metadata": {},
   "outputs": [],
   "source": []
  }
 ],
 "metadata": {
  "kernelspec": {
   "display_name": "Python 3",
   "language": "python",
   "name": "python3"
  },
  "language_info": {
   "codemirror_mode": {
    "name": "ipython",
    "version": 3
   },
   "file_extension": ".py",
   "mimetype": "text/x-python",
   "name": "python",
   "nbconvert_exporter": "python",
   "pygments_lexer": "ipython3",
   "version": "3.5.10"
  }
 },
 "nbformat": 4,
 "nbformat_minor": 4
}
